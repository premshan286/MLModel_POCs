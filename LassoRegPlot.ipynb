{
 "cells": [
  {
   "cell_type": "markdown",
   "metadata": {},
   "source": [
    "# Lasso Regression "
   ]
  },
  {
   "cell_type": "markdown",
   "metadata": {},
   "source": [
    "## Implementation to get the top features that impact the label"
   ]
  },
  {
   "cell_type": "markdown",
   "metadata": {},
   "source": [
    "### Import the necessary packages"
   ]
  },
  {
   "cell_type": "code",
   "execution_count": 1,
   "metadata": {},
   "outputs": [],
   "source": [
    "import pyodbc \n",
    "import pandas as pd\n",
    "import json\n",
    "from sklearn.linear_model import LinearRegression, Lasso\n",
    "from sklearn.model_selection import cross_val_score\n",
    "import matplotlib.pyplot as plt\n",
    "import numpy as np\n"
   ]
  },
  {
   "cell_type": "markdown",
   "metadata": {},
   "source": [
    "### Fetch data from sql server that will be used for Training"
   ]
  },
  {
   "cell_type": "code",
   "execution_count": 2,
   "metadata": {},
   "outputs": [
    {
     "name": "stdout",
     "output_type": "stream",
     "text": [
      "Index(['ANI_CALL_COUNT_FROM_PREV_CLM_CREATION',\n",
      "       'ANI_CALL_COUNT_UNTIL_CLM_CREATION',\n",
      "       'ANI_CLAIM_CREATION_DAY_CALL_COUNT', 'ANI_LAST_90_DAYS_CALL_COUNT',\n",
      "       'ISO_CLAIM_MATCH_COUNT', 'ISO_PRIOR_SIU_INVOLVEMENT_REDFLAG',\n",
      "       'ISO_RED_FLAGS_COUNT', 'ISO_OTHER_OPEN_CLAIM_IND',\n",
      "       'ISO_NON_NAME_CLAIM_MATCH_COUNT', 'ISO_PHONE_MATCH_CLAIM_COUNT',\n",
      "       'ISO_CLAIMS_DIRECTOR_SCORE', 'ISO_PROPERTY_ADD_NETMAP_ZIPMATCH_IND',\n",
      "       'ISO_DAYS_DIFF_PREV_CURRENT_LOSS', 'POL_ADD_3YR_CLAIM_COUNT',\n",
      "       'POLICY_ADD_RECORD_TYPE', 'ZIP4_GRADUATE_DEGREE_PERCENT',\n",
      "       'ZIP4_WHITE_COLLAR_EMPLOYMENT', 'ZIP4_HOMEOWNERS_AND_RELATED_INSURANCE',\n",
      "       'ZIP4_HOUSEHOLD_EARNING_OVER_100000',\n",
      "       'ZIP4_SINGLE_PARENTS_WITH_CHILDREN_PERCENT', 'TLO_AGE',\n",
      "       'TLO_CRIME_DETAILS_CRIME_TYPE',\n",
      "       'TLO_DAYS_DIFF_BANKRUPTCY_FILED_CLAIM_CREATION',\n",
      "       'TLO_PERSONAL_JUDGMENT_FILING_COUNT',\n",
      "       'TLO_PERSONAL_JUDGMENT_FILING_TYPE', 'TLO_PRIOR_CRIME_DETAILS_IND',\n",
      "       'TLO_RECENT_RISKY_HISTORY_IND', 'TLO_BANKRUPTCY_NOTICE_TYPE',\n",
      "       'TLO_PRIOR_BANKRUPTCY_IND', 'TLO_PRIOR_PERSONAL_LIEN_IND', 'CLAIM_CITY',\n",
      "       'CLAIM_STATE', 'CLAIM_COUNTY', 'CLM_ADD_TOT_CLAIM_COUNT',\n",
      "       'EX_DAYS_DIFF_CLAIM_CREATION_LATEST_BIL_ACY', 'EX_EFT_DEN_NSF_COUNT',\n",
      "       'EX_LATEST_BDR_DESC', 'EX_PRESENT_CD', 'EX_PRESENT_COLL_MTD',\n",
      "       'EX_PRESENT_PLAN_CD', 'EX_PRESENT_PLAN_INSTALLMENTS_COUNT',\n",
      "       'EX_REQUEST_NP_CANCEL_COUNT', 'EX_USED_CRED_CARDS_COUNT',\n",
      "       'EX_AUTO_REINST_COUNT', 'CAUSE_OF_LOSS', 'PMS_ACCOUNT_NAME',\n",
      "       'CLAIM_CREATION_WEEKDAY', 'DAYS_DIFF_REPORTED_CLAIM_LOSS',\n",
      "       'DATE_OF_LOSS_WEEKDAY', 'DAYS_DIFF_POLICY_EXPIRATION_LOSS_REPORTED',\n",
      "       'RF_CLAIM_WITHIN_30DAYS_FROM_INCEPTION_OR_BEFORE_EXPIRY',\n",
      "       'DAYS_DIFF_PREVIOUS_CURRENT_CLAIM', 'BASE_POLICY_LAST_3YRS_CLAIM_COUNT',\n",
      "       'MASTER_COMPANY_NAME', 'MULTIPLE_THEFT_FIRE_CLAIM_IND',\n",
      "       'DAYS_DIFF_CLAIM_LOSS_POLICY_EFFECTIVE', 'PREVIOUS_CLAIM_PAID_COUNT',\n",
      "       'PREVIOUS_CWOP_REASON', 'SUBPRODUCER_NUMBER', 'ACCOUNT_CODE',\n",
      "       'RISKY_LOSS_DESC_IND', 'MONTHS_DIFF_CLAIM_CREATION_BASE_POL_INCEPTION',\n",
      "       'POL_AMENDMENTS_COUNT', 'POL_DISTINCT_TRANS_ENT_DATE_COUNT',\n",
      "       'POL_CUR_STANDARD_COV_CODE', 'POL_CUR_STANDARD_COV_DED_AMT_CODE',\n",
      "       'POL_CUR_STANDARD_PREM_CRED_TYP', 'POL_CUR_STANDARD_COV_EXPOSURE',\n",
      "       'POL_CUR_STANDARD_COV_ORG_PREM',\n",
      "       'DAYS_DIFF_CLAIM_CREATION_LATEST_POL_TRANSACTION',\n",
      "       'POL_DISTINCT_MAJOR_PERIL_COUNT', 'POL_ISSUE', 'POLICY_RENEWAL_COUNT',\n",
      "       'POLICY_TOTAL_INSURED_COUNT', 'POL_TOTAL_WRIT_PREM',\n",
      "       'POL_DISTINCT_COVERAGE_COUNT', 'POL_OPTIONAL_CPL_COV_IND',\n",
      "       'RF_PRIOR_CLAIM_SAME_COL_WITHIN_1YEAR',\n",
      "       'RF_LAST30DAYS_COVERAGE_CHANGED', 'SIU_WATCHLIST_FULL_NAME_MATCH_IND',\n",
      "       'CLM_EMAIL_CLAIM_COUNT', 'POL_EMAIL_CLAIM_COUNT',\n",
      "       'POL_PH_NO_CLAIM_COUNT', 'CLM_PH_NO_CLAIM_COUNT',\n",
      "       'CLAIMANT_POLICY_PHONE_MISMATCH_IND',\n",
      "       'PREV_SIU_INVESTIGATED_CLAIM_ON_POLICY_IND', 'RELATED_FRAUD_CLAIM_IND',\n",
      "       'NICB_BLACKLIST_FULL_NAME_MATCH_IND', 'ENS_DISTINCT_ITEMS_COUNT',\n",
      "       'ENS_EXPENSIVE_ITEM_COUNT', 'ENS_LUXURY_ITEM_COUNT',\n",
      "       'ENS_VERY_EXPENSIVE_ITEM_COUNT', 'ENS_MAX_ITEM_AGE', 'ENS_TOTAL_ISV',\n",
      "       'ENS_TOTAL_ISV_RCV_DIFF', 'ENS_TOTAL_ITEMS_QTY', 'PREDICTION_VALUE_N',\n",
      "       'PREDICTION_VALUE_Y', 'FRAUD_SCORE'],\n",
      "      dtype='object')\n",
      "(11365, 99)\n"
     ]
    }
   ],
   "source": [
    "conn = pyodbc.connect('Driver={SQL Server};'\n",
    "                      'Server=LAPTOP-HVRMUNPF;'\n",
    "                      'PORT=1433;'\n",
    "                      'Database=RENTERS_STP;'\n",
    "                      'Trusted_Connection=yes;'\n",
    "                      )\n",
    "\n",
    "query = 'SELECT  * from [RENTERS_STP].[dbo].[DR_DetailedRequest_withNulls] where DAYS_DIFF_CLAIM_LOSS_POLICY_EFFECTIVE is not null'\n",
    "\n",
    "query = 'SELECT  * from [RENTERS_STP].[dbo].[DR_DetailedRequest_withNulls] where [ISO_CLAIMS_DIRECTOR_SCORE] is not null and [ISO_CLAIMS_DIRECTOR_SCORE] not in (0,999)'\n",
    "    \n",
    "df = pd.read_sql(query, conn)\n",
    "\n",
    "print (df.columns)\n",
    "print (df.shape)\n"
   ]
  },
  {
   "cell_type": "markdown",
   "metadata": {},
   "source": [
    "### Get the 'features' and 'labels' from the dataset. Split the dataset to training and testing datasets\n"
   ]
  },
  {
   "cell_type": "code",
   "execution_count": 3,
   "metadata": {},
   "outputs": [],
   "source": [
    "y=df['PREDICTION_VALUE_Y']\n",
    "df_dummies = pd.get_dummies(df.drop(['PREDICTION_VALUE_Y', 'PREDICTION_VALUE_N'], axis=1)).fillna(0)\n"
   ]
  },
  {
   "cell_type": "markdown",
   "metadata": {},
   "source": [
    "### Perform lasso regression"
   ]
  },
  {
   "cell_type": "code",
   "execution_count": null,
   "metadata": {},
   "outputs": [],
   "source": [
    "lasso = Lasso(alpha = 0.4)\n",
    "lasso_coeff = lasso.fit(df_dummies, y).coef_"
   ]
  },
  {
   "cell_type": "markdown",
   "metadata": {},
   "source": [
    "### Print the important features"
   ]
  },
  {
   "cell_type": "code",
   "execution_count": null,
   "metadata": {},
   "outputs": [],
   "source": [
    "coeffDict = dict(zip(df_dummies.columns, lasso_coeff))\n",
    "importantFeatures = {}\n",
    "for key,value in coeffDict.items():\n",
    "    #print (\"{} = {}\".format(key, val))\n",
    "    if -0.50 <= value <= 0.50 and round(value,2)==value:\n",
    "        print ( \"{} too low\".format(value))\n",
    "    else:\n",
    "        #print ( \"{} high enough\".format(value))\n",
    "        importantFeatures[key] = value\n",
    "        \n",
    "print (importantFeatures)\n",
    "xvalues = list(importantFeatures.keys())\n",
    "yvalues = list(importantFeatures.values())\n",
    "\n",
    "print (\"Labels are {} \".format(xvalues))\n",
    "print (\"Values are {} \".format(yvalues))\n"
   ]
  },
  {
   "cell_type": "markdown",
   "metadata": {},
   "source": [
    "### Dislplay the important features"
   ]
  },
  {
   "cell_type": "code",
   "execution_count": null,
   "metadata": {},
   "outputs": [],
   "source": [
    "%matplotlib inline\n",
    "\n",
    "plt.plot(np.arange(len(xvalues)), yvalues)\n",
    "plt.xticks(np.arange(len(xvalues)), xvalues, rotation = 60 , ha='right')\n",
    "plt.title('Lasso regression coef')\n",
    "plt.margins(0.02)\n",
    "plt.show()"
   ]
  }
 ],
 "metadata": {
  "kernelspec": {
   "display_name": "Python 3",
   "language": "python",
   "name": "python3"
  },
  "language_info": {
   "codemirror_mode": {
    "name": "ipython",
    "version": 3
   },
   "file_extension": ".py",
   "mimetype": "text/x-python",
   "name": "python",
   "nbconvert_exporter": "python",
   "pygments_lexer": "ipython3",
   "version": "3.7.6"
  }
 },
 "nbformat": 4,
 "nbformat_minor": 2
}
