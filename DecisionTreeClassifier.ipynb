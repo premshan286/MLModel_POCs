{
 "cells": [
  {
   "cell_type": "markdown",
   "metadata": {},
   "source": [
    "# Decision Tree Classifier"
   ]
  },
  {
   "cell_type": "markdown",
   "metadata": {},
   "source": [
    "### Import the necessary packages"
   ]
  },
  {
   "cell_type": "code",
   "execution_count": 1,
   "metadata": {},
   "outputs": [],
   "source": [
    "import pyodbc \n",
    "import pandas as pd\n",
    "import json\n",
    "from sklearn.tree import DecisionTreeClassifier\n",
    "from sklearn.model_selection import train_test_split\n",
    "from sklearn.metrics import accuracy_score\n",
    "import numpy as np"
   ]
  },
  {
   "cell_type": "markdown",
   "metadata": {},
   "source": [
    "### Fetch data from sql server that will be used for Training"
   ]
  },
  {
   "cell_type": "code",
   "execution_count": 2,
   "metadata": {},
   "outputs": [],
   "source": [
    "conn = pyodbc.connect('Driver={SQL Server};'\n",
    "                      'Server=LAPTOP-HVRMUNPF;'\n",
    "                      'PORT=1433;'\n",
    "                      'Database=RENTERS_STP;'\n",
    "                      'Trusted_Connection=yes;'\n",
    "                      )\n",
    "\n",
    "query = 'SELECT  * from [RENTERS_STP].[dbo].[DR_DetailedRequest_classification]'\n",
    "\n",
    "    \n",
    "df = pd.read_sql(query, conn)"
   ]
  },
  {
   "cell_type": "markdown",
   "metadata": {},
   "source": [
    "### Get the 'features' and 'labels' from the dataset. Split the dataset to training and testing datasets"
   ]
  },
  {
   "cell_type": "code",
   "execution_count": 3,
   "metadata": {},
   "outputs": [],
   "source": [
    "y=df['PREDICTION_VALUE_Y_BOOL']\n",
    "X = pd.get_dummies(df.drop(['PREDICTION_VALUE_Y_BOOL'], axis=1)).fillna(0)\n",
    "\n",
    "X_train, X_test, y_train, y_test = train_test_split(X,y,test_size = 0.3, random_state=42, stratify=y)\n"
   ]
  },
  {
   "cell_type": "markdown",
   "metadata": {},
   "source": [
    "### Decision tree modeling with Gini"
   ]
  },
  {
   "cell_type": "code",
   "execution_count": 4,
   "metadata": {},
   "outputs": [
    {
     "name": "stdout",
     "output_type": "stream",
     "text": [
      "2 depth w/gini - Accuracy score: 0.9898617512\n",
      "3 depth w/gini - Accuracy score: 0.9898617512\n",
      "4 depth w/gini - Accuracy score: 0.9894009217\n",
      "5 depth w/gini - Accuracy score: 0.9894009217\n",
      "6 depth w/gini - Accuracy score: 0.9907834101\n",
      "7 depth w/gini - Accuracy score: 0.9907834101\n",
      "8 depth w/gini - Accuracy score: 0.9912442396\n",
      "9 depth w/gini - Accuracy score: 0.9907834101\n"
     ]
    }
   ],
   "source": [
    "for depth in range(2,10):\n",
    "    dt = DecisionTreeClassifier(criterion ='gini', max_depth=depth)\n",
    "    dt.fit(X_train,y_train)\n",
    "\n",
    "    y_pred = dt.predict(X_test)\n",
    "    \n",
    "    acc = accuracy_score(y_pred, y_test)\n",
    "\n",
    "    print ('{} depth w/gini - Accuracy score: {:.10f}'.format(depth, acc))"
   ]
  },
  {
   "cell_type": "markdown",
   "metadata": {},
   "source": [
    "### Decision tree modeling with Gini"
   ]
  },
  {
   "cell_type": "code",
   "execution_count": 5,
   "metadata": {},
   "outputs": [
    {
     "name": "stdout",
     "output_type": "stream",
     "text": [
      "2 depth w/entropy - Accuracy score: 0.9898617512\n",
      "3 depth w/entropy - Accuracy score: 0.9898617512\n",
      "4 depth w/entropy - Accuracy score: 0.9898617512\n",
      "5 depth w/entropy - Accuracy score: 0.9866359447\n",
      "6 depth w/entropy - Accuracy score: 0.9880184332\n",
      "7 depth w/entropy - Accuracy score: 0.9898617512\n",
      "8 depth w/entropy - Accuracy score: 0.9884792627\n",
      "9 depth w/entropy - Accuracy score: 0.9898617512\n"
     ]
    }
   ],
   "source": [
    "for depth in range(2,10):\n",
    "    dt = DecisionTreeClassifier(criterion ='entropy', max_depth=depth)\n",
    "    dt.fit(X_train,y_train)\n",
    "\n",
    "    y_pred = dt.predict(X_test)\n",
    "    \n",
    "    acc = accuracy_score(y_pred, y_test)\n",
    "\n",
    "    print ('{} depth w/entropy - Accuracy score: {:.10f}'.format(depth, acc))"
   ]
  },
  {
   "cell_type": "code",
   "execution_count": null,
   "metadata": {},
   "outputs": [],
   "source": []
  }
 ],
 "metadata": {
  "kernelspec": {
   "display_name": "Python 3",
   "language": "python",
   "name": "python3"
  },
  "language_info": {
   "codemirror_mode": {
    "name": "ipython",
    "version": 3
   },
   "file_extension": ".py",
   "mimetype": "text/x-python",
   "name": "python",
   "nbconvert_exporter": "python",
   "pygments_lexer": "ipython3",
   "version": "3.7.6"
  }
 },
 "nbformat": 4,
 "nbformat_minor": 2
}
