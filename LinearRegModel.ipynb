{
 "cells": [
  {
   "cell_type": "code",
   "execution_count": null,
   "metadata": {},
   "outputs": [
    {
     "name": "stdout",
     "output_type": "stream",
     "text": [
      "(11365,)\n",
      "(11365, 3981)\n",
      "<class 'numpy.ndarray'>\n",
      "<class 'numpy.ndarray'>\n"
     ]
    }
   ],
   "source": [
    "import pyodbc \n",
    "import pandas as pd\n",
    "import json\n",
    "from sklearn.linear_model import LinearRegression\n",
    "from sklearn.model_selection import cross_val_score\n",
    "import matplotlib.pyplot as plt\n",
    "import numpy as np\n",
    "\n",
    "\n",
    "conn = pyodbc.connect('Driver={SQL Server};'\n",
    "                      'Server=LAPTOP-HVRMUNPF;'\n",
    "                      'PORT=1433;'\n",
    "                      'Database=RENTERS_STP;'\n",
    "                      'Trusted_Connection=yes;'\n",
    "                      )\n",
    "\n",
    "query = 'SELECT  * from [RENTERS_STP].[dbo].[DR_DetailedRequest_withNulls] where DAYS_DIFF_CLAIM_LOSS_POLICY_EFFECTIVE is not null'\n",
    "\n",
    "query = 'SELECT  * from [RENTERS_STP].[dbo].[DR_DetailedRequest_withNulls] where [ISO_CLAIMS_DIRECTOR_SCORE] is not null and [ISO_CLAIMS_DIRECTOR_SCORE] not in (0,999)'\n",
    "    \n",
    "df = pd.read_sql(query, conn)\n",
    "\n",
    "y=df['PREDICTION_VALUE_Y'].values\n",
    "\n",
    "#X = df.drop(['PREDICTION_VALUE_Y', 'PREDICTION_VALUE_N', 'ISO_PRIOR_SIU_INVOLVEMENT_REDFLAG','ISO_OTHER_OPEN_CLAIM_IND', 'ISO_PROPERTY_ADD_NETMAP_ZIPMATCH_IND','POLICY_ADD_RECORD_TYPE','TLO_CRIME_DETAILS_CRIME_TYPE', 'TLO_PERSONAL_JUDGMENT_FILING_TYPE', 'TLO_PRIOR_CRIME_DETAILS_IND','TLO_RECENT_RISKY_HISTORY_IND', 'TLO_BANKRUPTCY_NOTICE_TYPE', 'TLO_PRIOR_BANKRUPTCY_IND', 'TLO_PRIOR_PERSONAL_LIEN_IND','CLAIM_CITY', 'CLAIM_STATE', 'CLAIM_COUNTY','EX_LATEST_BDR_DESC','EX_PRESENT_CD','EX_PRESENT_COLL_MTD','EX_PRESENT_PLAN_CD','CAUSE_OF_LOSS','PMS_ACCOUNT_NAME','CLAIM_CREATION_WEEKDAY','DATE_OF_LOSS_WEEKDAY','RF_CLAIM_WITHIN_30DAYS_FROM_INCEPTION_OR_BEFORE_EXPIRY','MASTER_COMPANY_NAME','MULTIPLE_THEFT_FIRE_CLAIM_IND','PREVIOUS_CWOP_REASON','SUBPRODUCER_NUMBER','ACCOUNT_CODE','RISKY_LOSS_DESC_IND','POL_CUR_STANDARD_COV_CODE','POL_CUR_STANDARD_COV_DED_AMT_CODE','POL_CUR_STANDARD_PREM_CRED_TYP','POL_CUR_STANDARD_COV_EXPOSURE','POL_CUR_STANDARD_COV_ORG_PREM','POL_ISSUE','POL_OPTIONAL_CPL_COV_IND','RF_PRIOR_CLAIM_SAME_COL_WITHIN_1YEAR','RF_LAST30DAYS_COVERAGE_CHANGED','SIU_WATCHLIST_FULL_NAME_MATCH_IND','CLAIMANT_POLICY_PHONE_MISMATCH_IND','PREV_SIU_INVESTIGATED_CLAIM_ON_POLICY_IND','RELATED_FRAUD_CLAIM_IND','NICB_BLACKLIST_FULL_NAME_MATCH_IND','ENS_MAX_ITEM_AGE'], axis=1).fillna(0).values\n",
    "\n",
    "#X=df['ISO_CLAIMS_DIRECTOR_SCORE'].fillna(0).values\n",
    "\n",
    "X = pd.get_dummies(df.drop(['PREDICTION_VALUE_Y', 'PREDICTION_VALUE_N'], axis=1)).fillna(0).values\n",
    "\n",
    "\n",
    "#X=X.reshape(-1,1)\n",
    "#y=y.reshape(-1,1)\n",
    "    \n",
    "print (y.shape)\n",
    "print (X.shape)\n",
    "\n",
    "print (type(X))\n",
    "print (type(y))\n",
    "\n",
    "# Create a linear regression object: reg\n",
    "reg = LinearRegression()\n",
    "\n",
    "\n",
    "# Perform 3-fold CV\n",
    "cvscores_3 = cross_val_score(reg, X, y, cv=3)\n",
    "print(cvscores_3)\n",
    "print(np.mean(cvscores_3))\n",
    "\n",
    "\n",
    "reg.fit(X,y)\n",
    "\n",
    "print(reg.score(X, y))\n",
    "\n",
    "%matplotlib inline\n",
    "plt.scatter(X,y)\n",
    "\n",
    "\n",
    "\n",
    "\n",
    "\n"
   ]
  },
  {
   "cell_type": "code",
   "execution_count": null,
   "metadata": {},
   "outputs": [],
   "source": []
  }
 ],
 "metadata": {
  "kernelspec": {
   "display_name": "Python 3",
   "language": "python",
   "name": "python3"
  },
  "language_info": {
   "codemirror_mode": {
    "name": "ipython",
    "version": 3
   },
   "file_extension": ".py",
   "mimetype": "text/x-python",
   "name": "python",
   "nbconvert_exporter": "python",
   "pygments_lexer": "ipython3",
   "version": "3.7.6"
  }
 },
 "nbformat": 4,
 "nbformat_minor": 2
}
