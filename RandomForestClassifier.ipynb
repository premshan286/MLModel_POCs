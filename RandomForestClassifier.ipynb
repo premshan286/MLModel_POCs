{
 "cells": [
  {
   "cell_type": "markdown",
   "metadata": {},
   "source": [
    "# Random Forest Classification"
   ]
  },
  {
   "cell_type": "markdown",
   "metadata": {},
   "source": [
    "## Use the same type of classifier with multiple instances, each training on a different combination of the training set and on a reduced set of features. Useful to determine feature importance on the output model. "
   ]
  },
  {
   "cell_type": "markdown",
   "metadata": {},
   "source": [
    "### Import the necessary packages"
   ]
  },
  {
   "cell_type": "code",
   "execution_count": 1,
   "metadata": {},
   "outputs": [],
   "source": [
    "import pyodbc \n",
    "import pandas as pd\n",
    "import numpy as np\n",
    "import matplotlib.pyplot as plt\n",
    "\n",
    "#from sklearn.tree import DecisionTreeClassifier\n",
    "#from sklearn.ensemble import BaggingClassifier\n",
    "from sklearn.model_selection import train_test_split\n",
    "from sklearn.metrics import accuracy_score\n",
    "from sklearn.ensemble import RandomForestRegressor\n",
    "from sklearn.metrics import mean_squared_error as MSE\n"
   ]
  },
  {
   "cell_type": "markdown",
   "metadata": {},
   "source": [
    "### Fetch data from sql server that will be used for Training"
   ]
  },
  {
   "cell_type": "code",
   "execution_count": 2,
   "metadata": {},
   "outputs": [],
   "source": [
    "conn = pyodbc.connect('Driver={SQL Server};'\n",
    "                      'Server=LAPTOP-HVRMUNPF;'\n",
    "                      'PORT=1433;'\n",
    "                      'Database=RENTERS_STP;'\n",
    "                      'Trusted_Connection=yes;'\n",
    "                      )\n",
    "\n",
    "query = 'SELECT  * from [RENTERS_STP].[dbo].[DR_DetailedRequest_classification]'\n",
    "\n",
    "    \n",
    "df = pd.read_sql(query, conn)\n"
   ]
  },
  {
   "cell_type": "markdown",
   "metadata": {},
   "source": [
    "### Get the 'features' and 'labels' from the dataset. Split the dataset to training and testing datasets\n",
    "\n"
   ]
  },
  {
   "cell_type": "code",
   "execution_count": 3,
   "metadata": {},
   "outputs": [],
   "source": [
    "y=df['PREDICTION_VALUE_Y_BOOL']\n",
    "X = pd.get_dummies(df.drop(['PREDICTION_VALUE_Y_BOOL'], axis=1)).fillna(0)\n",
    "\n",
    "X_train, X_test, y_train, y_test = train_test_split(X,y,test_size = 0.3, random_state=42, stratify=y)\n",
    "\n",
    "SEED=1"
   ]
  },
  {
   "cell_type": "markdown",
   "metadata": {},
   "source": [
    "### Instantiate the model"
   ]
  },
  {
   "cell_type": "code",
   "execution_count": 4,
   "metadata": {},
   "outputs": [],
   "source": [
    "# Instantiate rf\n",
    "rf = RandomForestRegressor(n_estimators=25,\n",
    "            random_state=2)\n"
   ]
  },
  {
   "cell_type": "markdown",
   "metadata": {},
   "source": [
    "### Fit and train the model"
   ]
  },
  {
   "cell_type": "code",
   "execution_count": 5,
   "metadata": {},
   "outputs": [
    {
     "data": {
      "text/plain": [
       "RandomForestRegressor(bootstrap=True, ccp_alpha=0.0, criterion='mse',\n",
       "                      max_depth=None, max_features='auto', max_leaf_nodes=None,\n",
       "                      max_samples=None, min_impurity_decrease=0.0,\n",
       "                      min_impurity_split=None, min_samples_leaf=1,\n",
       "                      min_samples_split=2, min_weight_fraction_leaf=0.0,\n",
       "                      n_estimators=25, n_jobs=None, oob_score=False,\n",
       "                      random_state=2, verbose=0, warm_start=False)"
      ]
     },
     "execution_count": 5,
     "metadata": {},
     "output_type": "execute_result"
    }
   ],
   "source": [
    "# Fit rf to the training set    \n",
    "rf.fit(X_train, y_train) \n"
   ]
  },
  {
   "cell_type": "markdown",
   "metadata": {},
   "source": [
    "### Model Evaluation"
   ]
  },
  {
   "cell_type": "code",
   "execution_count": 6,
   "metadata": {},
   "outputs": [
    {
     "name": "stdout",
     "output_type": "stream",
     "text": [
      "Test set RMSE of rf: 0.086582\n"
     ]
    }
   ],
   "source": [
    "# Predict the test set labels\n",
    "y_pred = rf.predict(X_test)\n",
    "\n",
    "# Evaluate the test set RMSE\n",
    "rmse_test = MSE(y_test,y_pred)**(1/2)\n",
    "\n",
    "# Print rmse_test\n",
    "print('Test set RMSE of rf: {:.6f}'.format(rmse_test))\n"
   ]
  },
  {
   "cell_type": "markdown",
   "metadata": {},
   "source": [
    "### Plot the important features"
   ]
  },
  {
   "cell_type": "code",
   "execution_count": 7,
   "metadata": {},
   "outputs": [
    {
     "name": "stdout",
     "output_type": "stream",
     "text": [
      "ANI_CALL_COUNT_FROM_PREV_CLM_CREATION              0.000000\n",
      "SUBPRODUCER_NUMBER_0L84175                         0.000000\n",
      "SUBPRODUCER_NUMBER_0L84189                         0.000000\n",
      "SUBPRODUCER_NUMBER_0L84363                         0.000000\n",
      "SUBPRODUCER_NUMBER_0L84372                         0.000000\n",
      "SUBPRODUCER_NUMBER_0L84406                         0.000000\n",
      "SUBPRODUCER_NUMBER_0L84417                         0.000000\n",
      "SUBPRODUCER_NUMBER_0L84442                         0.000000\n",
      "SUBPRODUCER_NUMBER_0L84481                         0.000000\n",
      "SUBPRODUCER_NUMBER_0L84507                         0.000000\n",
      "SUBPRODUCER_NUMBER_0L84522                         0.000000\n",
      "SUBPRODUCER_NUMBER_0L84543                         0.000000\n",
      "SUBPRODUCER_NUMBER_0L84549                         0.000000\n",
      "SUBPRODUCER_NUMBER_0L84556                         0.000000\n",
      "SUBPRODUCER_NUMBER_0L84570                         0.000000\n",
      "SUBPRODUCER_NUMBER_0L84577                         0.000000\n",
      "SUBPRODUCER_NUMBER_0L84584                         0.000000\n",
      "SUBPRODUCER_NUMBER_0L84586                         0.000000\n",
      "SUBPRODUCER_NUMBER_0L84604                         0.000000\n",
      "SUBPRODUCER_NUMBER_0L84630                         0.000000\n",
      "SUBPRODUCER_NUMBER_0L84634                         0.000000\n",
      "SUBPRODUCER_NUMBER_0L84659                         0.000000\n",
      "SUBPRODUCER_NUMBER_0L84665                         0.000000\n",
      "SUBPRODUCER_NUMBER_0L84668                         0.000000\n",
      "SUBPRODUCER_NUMBER_0L84676                         0.000000\n",
      "SUBPRODUCER_NUMBER_0L84693                         0.000000\n",
      "SUBPRODUCER_NUMBER_0L84724                         0.000000\n",
      "SUBPRODUCER_NUMBER_0L84728                         0.000000\n",
      "SUBPRODUCER_NUMBER_0L84735                         0.000000\n",
      "SUBPRODUCER_NUMBER_0L84761                         0.000000\n",
      "                                                     ...   \n",
      "CLAIM_CITY_AURORA                                  0.008661\n",
      "CLAIM_CITY_CHATTANOOGA                             0.009166\n",
      "CLAIM_STATE_OH                                     0.009259\n",
      "EX_LATEST_BDR_DESC_COLLECTION METHOD CHANGE        0.009357\n",
      "PREVIOUS_CWOP_REASON_INVALID PROOF OF OWNERSHIP    0.010832\n",
      "CLAIM_CITY_BESSEMER                                0.011416\n",
      "ZIP4_HOMEOWNERS_AND_RELATED_INSURANCE              0.011889\n",
      "RF_PRIOR_CLAIM_SAME_COL_WITHIN_1YEAR_M             0.013217\n",
      "POL_CUR_STANDARD_COV_ORG_PREM_465                  0.015644\n",
      "ENS_LUXURY_ITEM_COUNT                              0.016206\n",
      "PREVIOUS_CWOP_REASON_M                             0.017083\n",
      "ENS_TOTAL_ISV_RCV_DIFF                             0.017093\n",
      "TLO_CRIME_DETAILS_CRIME_TYPE_TRAFFIC               0.017305\n",
      "POL_CUR_STANDARD_COV_ORG_PREM_1071                 0.017341\n",
      "ZIP4_WHITE_COLLAR_EMPLOYMENT                       0.018017\n",
      "ENS_TOTAL_ISV                                      0.018223\n",
      "ISO_CLAIMS_DIRECTOR_SCORE                          0.019014\n",
      "POL_CUR_STANDARD_COV_ORG_PREM_382                  0.019028\n",
      "SUBPRODUCER_NUMBER_M                               0.019033\n",
      "NICB_BLACKLIST_FULL_NAME_MATCH_IND_M               0.019333\n",
      "ISO_DAYS_DIFF_PREV_CURRENT_LOSS                    0.020041\n",
      "CLAIM_CREATION_WEEKDAY_M                           0.020137\n",
      "DAYS_DIFF_POLICY_EXPIRATION_LOSS_REPORTED          0.020589\n",
      "MONTHS_DIFF_CLAIM_CREATION_BASE_POL_INCEPTION      0.021372\n",
      "MULTIPLE_THEFT_FIRE_CLAIM_IND_M                    0.025587\n",
      "POL_ISSUE_M                                        0.030236\n",
      "RELATED_FRAUD_CLAIM_IND_N                          0.033562\n",
      "CLAIM_COUNTY_PLEASANTS COUNTY                      0.034097\n",
      "PREV_SIU_INVESTIGATED_CLAIM_ON_POLICY_IND_N        0.044074\n",
      "RELATED_FRAUD_CLAIM_IND_Y                          0.052332\n",
      "Length: 4452, dtype: float64\n"
     ]
    },
    {
     "data": {
      "image/png": "[encoded data removed]",
      "text/plain": [
       "<Figure size 432x288 with 1 Axes>"
      ]
     },
     "metadata": {
      "needs_background": "light"
     },
     "output_type": "display_data"
    }
   ],
   "source": [
    "# Create a pd.Series of features importances\n",
    "importances = pd.Series(data=rf.feature_importances_,\n",
    "                        index= X_train.columns)\n",
    "\n",
    "# Sort importances\n",
    "\n",
    "importance_sorted = importances.sort_values()\n",
    "\n",
    "\n",
    "print (importance_sorted)\n",
    "# Draw a horizontal barplot of the top 10 important features\n",
    "importance_sorted.tail(20).plot(kind='barh', color='lightgreen')\n",
    "plt.title('Features Importances')\n",
    "plt.show()"
   ]
  }
 ],
 "metadata": {
  "kernelspec": {
   "display_name": "Python 3",
   "language": "python",
   "name": "python3"
  },
  "language_info": {
   "codemirror_mode": {
    "name": "ipython",
    "version": 3
   },
   "file_extension": ".py",
   "mimetype": "text/x-python",
   "name": "python",
   "nbconvert_exporter": "python",
   "pygments_lexer": "ipython3",
   "version": "3.7.6"
  }
 },
 "nbformat": 4,
 "nbformat_minor": 2
}
